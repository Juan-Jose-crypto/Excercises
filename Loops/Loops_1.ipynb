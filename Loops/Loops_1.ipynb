{
 "cells": [
  {
   "cell_type": "code",
   "execution_count": null,
   "metadata": {},
   "outputs": [],
   "source": []
  },
  {
   "cell_type": "markdown",
   "metadata": {},
   "source": [
    "1. Print First 10 natural numbers using while loop.\n",
    "2. Print the following pattern:\n",
    "\n",
    "    1 \n",
    "\n",
    "    1 2 \n",
    "\n",
    "    1 2 3 \n",
    "\n",
    "    1 2 3 4 \n",
    "    \n",
    "    1 2 3 4 5\n",
    "\n",
    "3. Calculate the sum of all numbers from 1 to a given number.\n",
    "4. Write a program to print multiplication table of a given number.\n",
    "5. Count the total number of digits in a number.\n",
    "6. Print the following pattern.\n",
    "7. Print list in reverse order using a loop.\n",
    "8. Display numbers from -10 to -1 using for loop.\n",
    "9. Use else block to display a message “Done” after successful execution of for loop."
   ]
  },
  {
   "cell_type": "code",
   "execution_count": 1,
   "metadata": {},
   "outputs": [
    {
     "name": "stdout",
     "output_type": "stream",
     "text": [
      "1\n",
      "2\n",
      "3\n",
      "4\n",
      "5\n",
      "6\n",
      "7\n",
      "8\n",
      "9\n",
      "10\n"
     ]
    }
   ],
   "source": [
    "# Exercise 1\n",
    "\n",
    "i = 0\n",
    "while 1:\n",
    "    i += 1\n",
    "    print(i)\n",
    "\n",
    "    if i == 10:\n",
    "        break"
   ]
  },
  {
   "cell_type": "code",
   "execution_count": 4,
   "metadata": {},
   "outputs": [
    {
     "name": "stdout",
     "output_type": "stream",
     "text": [
      "1 \n",
      "1 2 \n",
      "1 2 3 \n",
      "1 2 3 4 \n",
      "1 2 3 4 5 \n",
      "1 2 3 4 5 6 \n",
      "1 2 3 4 5 6 7 \n",
      "1 2 3 4 5 6 7 8 \n",
      "1 2 3 4 5 6 7 8 9 \n",
      "1 2 3 4 5 6 7 8 9 10 \n"
     ]
    }
   ],
   "source": [
    "# Exercise 2\n",
    "\n",
    "result = ''\n",
    "for number in range(1, 10 + 1):\n",
    "    result += f'{number} '\n",
    "    print(result)"
   ]
  },
  {
   "cell_type": "code",
   "execution_count": null,
   "metadata": {},
   "outputs": [],
   "source": []
  }
 ],
 "metadata": {
  "kernelspec": {
   "display_name": "Python 3",
   "language": "python",
   "name": "python3"
  },
  "language_info": {
   "codemirror_mode": {
    "name": "ipython",
    "version": 3
   },
   "file_extension": ".py",
   "mimetype": "text/x-python",
   "name": "python",
   "nbconvert_exporter": "python",
   "pygments_lexer": "ipython3",
   "version": "3.11.4"
  }
 },
 "nbformat": 4,
 "nbformat_minor": 2
}
