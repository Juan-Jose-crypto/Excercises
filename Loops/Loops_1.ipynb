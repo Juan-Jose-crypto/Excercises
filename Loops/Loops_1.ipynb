{
 "cells": [
  {
   "cell_type": "markdown",
   "metadata": {},
   "source": [
    "# Python if else, for loop, and range() Exercises"
   ]
  },
  {
   "cell_type": "markdown",
   "metadata": {},
   "source": [
    "1. Print First 10 natural numbers using while loop.\n",
    "2. Print the following pattern:\n",
    "\n",
    "        1 \n",
    "\n",
    "        1 2 \n",
    "\n",
    "        1 2 3 \n",
    "\n",
    "        1 2 3 4 \n",
    "        \n",
    "        1 2 3 4 5\n",
    "\n",
    "3. Calculate the sum of all numbers from 1 to a given number.\n",
    "4. Write a program to print multiplication table of a given number.\n",
    "5. Display numbers from a list using loop.\n",
    "\n",
    "        Write a program to display only those numbers from a list that satisfy the following conditions:\n",
    "\n",
    "                a. The number must be divisible by five.\n",
    "\n",
    "                b. If the number is greater than 150, then skip it and move to the next number.\n",
    "\n",
    "                c. If the number is greater than 500, then stop the loop.\n",
    "\n",
    "6. Count the total number of digits in a number: Write a program to count the total number of digits in a number using a while loop.\n",
    "7. Print the following pattern: Write a program to use for loop to print the following reverse number pattern.\n",
    "        5 4 3 2 1 \n",
    "\n",
    "        4 3 2 1\n",
    "\n",
    "        3 2 1\n",
    "\n",
    "        2 1\n",
    "\n",
    "        1\n",
    "\n",
    "8. Print list in reverse order using a loop.\n",
    "9. Exercise 9: Display numbers from -10 to -1 using for loop.\n",
    "10. Exercise 10: Use else block to display a message “Done” after successful execution of for loop.\n",
    "11. Exercise 11: Write a program to display all prime numbers within a range."
   ]
  },
  {
   "cell_type": "code",
   "execution_count": 1,
   "metadata": {},
   "outputs": [
    {
     "name": "stdout",
     "output_type": "stream",
     "text": [
      "1\n",
      "2\n",
      "3\n",
      "4\n",
      "5\n",
      "6\n",
      "7\n",
      "8\n",
      "9\n",
      "10\n"
     ]
    }
   ],
   "source": [
    "# Exercise 1\n",
    "\n",
    "i = 0\n",
    "while 1:\n",
    "    i += 1\n",
    "    print(i)\n",
    "\n",
    "    if i == 10:\n",
    "        break"
   ]
  },
  {
   "cell_type": "code",
   "execution_count": 4,
   "metadata": {},
   "outputs": [
    {
     "name": "stdout",
     "output_type": "stream",
     "text": [
      "1 \n",
      "1 2 \n",
      "1 2 3 \n",
      "1 2 3 4 \n",
      "1 2 3 4 5 \n",
      "1 2 3 4 5 6 \n",
      "1 2 3 4 5 6 7 \n",
      "1 2 3 4 5 6 7 8 \n",
      "1 2 3 4 5 6 7 8 9 \n",
      "1 2 3 4 5 6 7 8 9 10 \n"
     ]
    }
   ],
   "source": [
    "# Exercise 2\n",
    "\n",
    "result = ''\n",
    "for number in range(1, 10 + 1):\n",
    "    result += f'{number} '\n",
    "    print(result)"
   ]
  },
  {
   "cell_type": "code",
   "execution_count": 1,
   "metadata": {},
   "outputs": [
    {
     "name": "stdout",
     "output_type": "stream",
     "text": [
      "6\n"
     ]
    }
   ],
   "source": [
    "# Exercise 3\n",
    "\n",
    "numb = 3\n",
    "\n",
    "result = 0\n",
    "\n",
    "for number in range(1, numb + 1):\n",
    "    result += number\n",
    "\n",
    "print(result)"
   ]
  },
  {
   "cell_type": "code",
   "execution_count": 3,
   "metadata": {},
   "outputs": [
    {
     "name": "stdout",
     "output_type": "stream",
     "text": [
      "7\n",
      "14\n",
      "21\n",
      "28\n",
      "35\n",
      "42\n",
      "49\n",
      "56\n",
      "63\n",
      "70\n"
     ]
    }
   ],
   "source": [
    "# Exercise 4\n",
    "\n",
    "numb = 7\n",
    "\n",
    "i = 0\n",
    "\n",
    "while i < 10:\n",
    "    i += 1\n",
    "    mult = 7*i \n",
    "    print(mult)\n"
   ]
  },
  {
   "cell_type": "code",
   "execution_count": 3,
   "metadata": {},
   "outputs": [
    {
     "name": "stdout",
     "output_type": "stream",
     "text": [
      "75\n",
      "150\n",
      "145\n",
      "50\n"
     ]
    }
   ],
   "source": [
    "# Exercise 5\n",
    "\n",
    "numbers = [12, 75, 150, 180, 145, 525, 50]\n",
    "\n",
    "for number in numbers:\n",
    "    if number % 5 == 0:\n",
    "        if number > 150:\n",
    "            pass\n",
    "        elif number > 500:\n",
    "            break\n",
    "        else:\n",
    "            print(number)"
   ]
  },
  {
   "cell_type": "code",
   "execution_count": 4,
   "metadata": {},
   "outputs": [
    {
     "name": "stdout",
     "output_type": "stream",
     "text": [
      "50\n",
      "40\n",
      "30\n",
      "20\n",
      "10\n"
     ]
    }
   ],
   "source": [
    "# Exercise 8\n",
    "\n",
    "list1 = [10, 20, 30, 40, 50]\n",
    "\n",
    "for number in reversed(list1):\n",
    "    print(number)"
   ]
  },
  {
   "cell_type": "code",
   "execution_count": 6,
   "metadata": {},
   "outputs": [
    {
     "name": "stdout",
     "output_type": "stream",
     "text": [
      "-10\n",
      "-9\n",
      "-8\n",
      "-7\n",
      "-6\n",
      "-5\n",
      "-4\n",
      "-3\n",
      "-2\n",
      "-1\n"
     ]
    }
   ],
   "source": [
    "# Exercise 9\n",
    "\n",
    "numbers = [number for number in range(-10, -1 + 1)]\n",
    "\n",
    "for number in numbers:\n",
    "    print(number)"
   ]
  },
  {
   "cell_type": "code",
   "execution_count": 8,
   "metadata": {},
   "outputs": [
    {
     "name": "stdout",
     "output_type": "stream",
     "text": [
      "0\n",
      "1\n",
      "2\n",
      "3\n",
      "4\n",
      "Done!\n"
     ]
    }
   ],
   "source": [
    "# Exercise 10\n",
    "\n",
    "for i in range(5):\n",
    "    print(i)\n",
    "else:\n",
    "    print('Done!')"
   ]
  },
  {
   "cell_type": "code",
   "execution_count": 9,
   "metadata": {},
   "outputs": [],
   "source": [
    "# Exercise 11\n",
    "\n",
    "def is_prime(numb: int):\n",
    "    if numb <= 0:\n",
    "        raise Exception('It is not a value allowed.')\n",
    "    \n",
    "    numbers = [number for number in range(1, numb + 1)]\n",
    "    div_numbers = []\n",
    "\n",
    "    for number in numbers:\n",
    "        if numb%number == 0:\n",
    "            div_numbers.append(number)\n",
    "\n",
    "    result = True if div_numbers == [1, numb] else False\n",
    "\n",
    "    return result"
   ]
  },
  {
   "cell_type": "code",
   "execution_count": 10,
   "metadata": {},
   "outputs": [
    {
     "name": "stdout",
     "output_type": "stream",
     "text": [
      "True\n"
     ]
    }
   ],
   "source": [
    "print(is_prime(11))"
   ]
  }
 ],
 "metadata": {
  "kernelspec": {
   "display_name": "Python 3",
   "language": "python",
   "name": "python3"
  },
  "language_info": {
   "codemirror_mode": {
    "name": "ipython",
    "version": 3
   },
   "file_extension": ".py",
   "mimetype": "text/x-python",
   "name": "python",
   "nbconvert_exporter": "python",
   "pygments_lexer": "ipython3",
   "version": "3.11.4"
  }
 },
 "nbformat": 4,
 "nbformat_minor": 2
}
