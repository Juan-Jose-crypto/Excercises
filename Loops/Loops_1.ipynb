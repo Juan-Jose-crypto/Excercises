{
 "cells": [
  {
   "cell_type": "code",
   "execution_count": null,
   "metadata": {},
   "outputs": [],
   "source": []
  },
  {
   "cell_type": "markdown",
   "metadata": {},
   "source": [
    "1. Print First 10 natural numbers using while loop.\n",
    "2. Print the following pattern:\n",
    "\n",
    "        1 \n",
    "\n",
    "        1 2 \n",
    "\n",
    "        1 2 3 \n",
    "\n",
    "        1 2 3 4 \n",
    "        \n",
    "        1 2 3 4 5\n",
    "\n",
    "3. Calculate the sum of all numbers from 1 to a given number.\n",
    "4. Write a program to print multiplication table of a given number.\n",
    "5. Display numbers from a list using loop.\n",
    "\n",
    "        Write a program to display only those numbers from a list that satisfy the following conditions:\n",
    "\n",
    "                a. The number must be divisible by five.\n",
    "\n",
    "                b. If the number is greater than 150, then skip it and move to the next number.\n",
    "\n",
    "                c. If the number is greater than 500, then stop the loop."
   ]
  },
  {
   "cell_type": "code",
   "execution_count": 1,
   "metadata": {},
   "outputs": [
    {
     "name": "stdout",
     "output_type": "stream",
     "text": [
      "1\n",
      "2\n",
      "3\n",
      "4\n",
      "5\n",
      "6\n",
      "7\n",
      "8\n",
      "9\n",
      "10\n"
     ]
    }
   ],
   "source": [
    "# Exercise 1\n",
    "\n",
    "i = 0\n",
    "while 1:\n",
    "    i += 1\n",
    "    print(i)\n",
    "\n",
    "    if i == 10:\n",
    "        break"
   ]
  },
  {
   "cell_type": "code",
   "execution_count": 4,
   "metadata": {},
   "outputs": [
    {
     "name": "stdout",
     "output_type": "stream",
     "text": [
      "1 \n",
      "1 2 \n",
      "1 2 3 \n",
      "1 2 3 4 \n",
      "1 2 3 4 5 \n",
      "1 2 3 4 5 6 \n",
      "1 2 3 4 5 6 7 \n",
      "1 2 3 4 5 6 7 8 \n",
      "1 2 3 4 5 6 7 8 9 \n",
      "1 2 3 4 5 6 7 8 9 10 \n"
     ]
    }
   ],
   "source": [
    "# Exercise 2\n",
    "\n",
    "result = ''\n",
    "for number in range(1, 10 + 1):\n",
    "    result += f'{number} '\n",
    "    print(result)"
   ]
  },
  {
   "cell_type": "code",
   "execution_count": 1,
   "metadata": {},
   "outputs": [
    {
     "name": "stdout",
     "output_type": "stream",
     "text": [
      "6\n"
     ]
    }
   ],
   "source": [
    "# Exercise 3\n",
    "\n",
    "numb = 3\n",
    "\n",
    "result = 0\n",
    "\n",
    "for number in range(1, numb + 1):\n",
    "    result += number\n",
    "\n",
    "print(result)"
   ]
  },
  {
   "cell_type": "code",
   "execution_count": 3,
   "metadata": {},
   "outputs": [
    {
     "name": "stdout",
     "output_type": "stream",
     "text": [
      "7\n",
      "14\n",
      "21\n",
      "28\n",
      "35\n",
      "42\n",
      "49\n",
      "56\n",
      "63\n",
      "70\n"
     ]
    }
   ],
   "source": [
    "# Exercise 4\n",
    "\n",
    "numb = 7\n",
    "\n",
    "i = 0\n",
    "\n",
    "while i < 10:\n",
    "    i += 1\n",
    "    mult = 7*i \n",
    "    print(mult)\n"
   ]
  },
  {
   "cell_type": "code",
   "execution_count": null,
   "metadata": {},
   "outputs": [],
   "source": [
    "# Exercise 5\n",
    "\n",
    "numbers = [12, 75, 150, 180, 145, 525, 50]\n",
    "\n"
   ]
  },
  {
   "cell_type": "markdown",
   "metadata": {},
   "source": [
    "                a. The number must be divisible by five.\n",
    "\n",
    "                b. If the number is greater than 150, then skip it and move to the next number.\n",
    "\n",
    "                c. If the number is greater than 500, then stop the loop."
   ]
  }
 ],
 "metadata": {
  "kernelspec": {
   "display_name": "Python 3",
   "language": "python",
   "name": "python3"
  },
  "language_info": {
   "codemirror_mode": {
    "name": "ipython",
    "version": 3
   },
   "file_extension": ".py",
   "mimetype": "text/x-python",
   "name": "python",
   "nbconvert_exporter": "python",
   "pygments_lexer": "ipython3",
   "version": "3.11.4"
  }
 },
 "nbformat": 4,
 "nbformat_minor": 2
}
