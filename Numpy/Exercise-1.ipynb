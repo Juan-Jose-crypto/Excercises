{
 "cells": [
  {
   "cell_type": "code",
   "execution_count": 5,
   "metadata": {},
   "outputs": [],
   "source": [
    "import numpy as np\n",
    "import random"
   ]
  },
  {
   "cell_type": "markdown",
   "metadata": {},
   "source": [
    "Exercise 1\n",
    "\n",
    "Create a 4x2 integer array and Prints its attributes.\n",
    "\n",
    "Note: The element must be a type of unsigned int16. And print the following Attributes:\n",
    "\n",
    "1. The shape of an array.\n",
    "2. Array dimensions.\n",
    "3. The length of each element of the array in bytes."
   ]
  },
  {
   "cell_type": "code",
   "execution_count": 8,
   "metadata": {},
   "outputs": [],
   "source": [
    "list_0 = [[random.randint(0, 50000), random.randint(0, 50000)] for _ in range(4)]\n",
    "array = np.array(list_0)"
   ]
  },
  {
   "cell_type": "code",
   "execution_count": 16,
   "metadata": {},
   "outputs": [
    {
     "name": "stdout",
     "output_type": "stream",
     "text": [
      "Array: [[34870 17971]\n",
      " [ 1631 38435]\n",
      " [24174 27012]\n",
      " [47822 39655]]\n",
      "\n",
      "Shape: (4, 2)\n",
      "Dimension: 2\n",
      "Length: 4\n"
     ]
    }
   ],
   "source": [
    "print(f\"Array: {array}\")\n",
    "print()\n",
    "print(f\"Shape: {array.shape}\")\n",
    "print(f\"Dimension: {array.ndim}\")\n",
    "print(f\"Length: {array.itemsize}\")"
   ]
  }
 ],
 "metadata": {
  "kernelspec": {
   "display_name": "Python 3",
   "language": "python",
   "name": "python3"
  },
  "language_info": {
   "codemirror_mode": {
    "name": "ipython",
    "version": 3
   },
   "file_extension": ".py",
   "mimetype": "text/x-python",
   "name": "python",
   "nbconvert_exporter": "python",
   "pygments_lexer": "ipython3",
   "version": "3.11.4"
  }
 },
 "nbformat": 4,
 "nbformat_minor": 2
}
