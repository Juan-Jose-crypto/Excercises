{
 "cells": [
  {
   "cell_type": "markdown",
   "metadata": {},
   "source": [
    "## Exercise 1\n",
    "\n",
    "Write a decorator my_decorator that prints \"Function is being called\" before calling the decorated function."
   ]
  },
  {
   "cell_type": "code",
   "execution_count": 3,
   "metadata": {},
   "outputs": [],
   "source": [
    "def my_decorator(function):\n",
    "    def wrapper():\n",
    "        print('Function is being called.')\n",
    "        function()\n",
    "    \n",
    "    return wrapper"
   ]
  },
  {
   "cell_type": "code",
   "execution_count": 7,
   "metadata": {},
   "outputs": [],
   "source": [
    "@my_decorator\n",
    "def my_function():\n",
    "    print('Function is working...')"
   ]
  },
  {
   "cell_type": "code",
   "execution_count": 8,
   "metadata": {},
   "outputs": [
    {
     "name": "stdout",
     "output_type": "stream",
     "text": [
      "Function is being called.\n",
      "Function is working...\n"
     ]
    }
   ],
   "source": [
    "my_function()"
   ]
  },
  {
   "cell_type": "markdown",
   "metadata": {},
   "source": [
    "## Exercise 2\n",
    "\n",
    "Modify the my_decorator from Exercise 1 to accept an argument that specifies a pre-call message. Use this to print a custom message before calling the decorated function."
   ]
  },
  {
   "cell_type": "code",
   "execution_count": 9,
   "metadata": {},
   "outputs": [],
   "source": [
    "def my_decorator(message: str):\n",
    "    def wrapper_helper(function):\n",
    "        def wrapper():\n",
    "            print(f'{message}')\n",
    "            function()\n",
    "        \n",
    "        return wrapper\n",
    "    return wrapper_helper"
   ]
  },
  {
   "cell_type": "code",
   "execution_count": 11,
   "metadata": {},
   "outputs": [],
   "source": [
    "@my_decorator('My function is doing wrong things.')\n",
    "def my_function():\n",
    "    print('Function is working...')"
   ]
  },
  {
   "cell_type": "code",
   "execution_count": 12,
   "metadata": {},
   "outputs": [
    {
     "name": "stdout",
     "output_type": "stream",
     "text": [
      "My function is doing wrong things.\n",
      "Function is working...\n"
     ]
    }
   ],
   "source": [
    "my_function()"
   ]
  },
  {
   "cell_type": "markdown",
   "metadata": {},
   "source": [
    "## Exercise 3\n",
    "\n",
    "Create a decorator timeit that measures the execution time of a function and prints it."
   ]
  },
  {
   "cell_type": "code",
   "execution_count": 16,
   "metadata": {},
   "outputs": [],
   "source": [
    "import time\n",
    "\n",
    "def timeit(function):\n",
    "    def wrapper(*args, **kargs):\n",
    "        initial_time = time.time()\n",
    "        sol = function(*args, **kargs)\n",
    "        print(f'Time Elapsed: {time.time() - initial_time}')\n",
    "        return sol\n",
    "\n",
    "    return wrapper"
   ]
  },
  {
   "cell_type": "code",
   "execution_count": 17,
   "metadata": {},
   "outputs": [],
   "source": [
    "@timeit\n",
    "def sum_function(numb1, numb2):\n",
    "    time.sleep(1)\n",
    "    return numb1 + numb2"
   ]
  },
  {
   "cell_type": "code",
   "execution_count": 20,
   "metadata": {},
   "outputs": [
    {
     "name": "stdout",
     "output_type": "stream",
     "text": [
      "Time Elapsed: 1.0008132457733154\n"
     ]
    }
   ],
   "source": [
    "result = sum_function(2, 4)"
   ]
  },
  {
   "cell_type": "code",
   "execution_count": 21,
   "metadata": {},
   "outputs": [
    {
     "name": "stdout",
     "output_type": "stream",
     "text": [
      "6\n"
     ]
    }
   ],
   "source": [
    "print(result)"
   ]
  },
  {
   "cell_type": "markdown",
   "metadata": {},
   "source": [
    "## Exercise 4\n",
    "\n",
    "Implement a memoization decorator memoize that caches the results of the decorated function. Use it to cache results of a function that calculates Fibonacci numbers."
   ]
  },
  {
   "cell_type": "code",
   "execution_count": 33,
   "metadata": {},
   "outputs": [],
   "source": [
    "def memoize(function):\n",
    "    cache = {}\n",
    "    def memoized_fn(*args):\n",
    "        if args in cache:\n",
    "            return cache[args]\n",
    "        result = function(*args)\n",
    "        cache[args] = result\n",
    "        return result\n",
    "    return memoized_fn"
   ]
  },
  {
   "cell_type": "code",
   "execution_count": 34,
   "metadata": {},
   "outputs": [],
   "source": [
    "@memoize\n",
    "def fibonacci(number: int):\n",
    "    if number == 1 or number == 2: return 1\n",
    "    else: return fibonacci(number - 2) + fibonacci(number - 1)"
   ]
  },
  {
   "cell_type": "code",
   "execution_count": 37,
   "metadata": {},
   "outputs": [
    {
     "data": {
      "text/plain": [
       "139423224561697880139724382870407283950070256587697307264108962948325571622863290691557658876222521294125"
      ]
     },
     "execution_count": 37,
     "metadata": {},
     "output_type": "execute_result"
    }
   ],
   "source": [
    "fibonacci(500)"
   ]
  }
 ],
 "metadata": {
  "kernelspec": {
   "display_name": "Python 3",
   "language": "python",
   "name": "python3"
  },
  "language_info": {
   "codemirror_mode": {
    "name": "ipython",
    "version": 3
   },
   "file_extension": ".py",
   "mimetype": "text/x-python",
   "name": "python",
   "nbconvert_exporter": "python",
   "pygments_lexer": "ipython3",
   "version": "3.11.4"
  }
 },
 "nbformat": 4,
 "nbformat_minor": 2
}
