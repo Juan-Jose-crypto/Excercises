{
 "cells": [
  {
   "cell_type": "markdown",
   "metadata": {},
   "source": [
    "## Exercise 1\n",
    "\n",
    "Write a program to create a function that takes two arguments, name and age, and print their value."
   ]
  },
  {
   "cell_type": "code",
   "execution_count": 8,
   "metadata": {},
   "outputs": [],
   "source": [
    "def personal_data(name: str, age: int) -> None:\n",
    "    print(f'Name {name} and age {age}.')"
   ]
  },
  {
   "cell_type": "code",
   "execution_count": 9,
   "metadata": {},
   "outputs": [
    {
     "name": "stdout",
     "output_type": "stream",
     "text": [
      "Name Juan Jose Segura Florez and age 27.\n"
     ]
    }
   ],
   "source": [
    "personal_data('Juan Jose Segura Florez', 27)"
   ]
  },
  {
   "cell_type": "markdown",
   "metadata": {},
   "source": [
    "## Exercise 2\n",
    "\n",
    "Create a function with variable lenght of arguments.\n",
    "\n",
    "Write a program to create function func1() to accept a variable lenght of arguments and print their value.\n",
    "\n",
    "Note: Create a function in such a way that we can pass any number of arguments to this function, and the function should process them and display each argument's value."
   ]
  },
  {
   "cell_type": "code",
   "execution_count": 3,
   "metadata": {},
   "outputs": [],
   "source": [
    "def func1(*arguments):\n",
    "    for argument in arguments:\n",
    "        print(argument)"
   ]
  },
  {
   "cell_type": "code",
   "execution_count": 5,
   "metadata": {},
   "outputs": [
    {
     "name": "stdout",
     "output_type": "stream",
     "text": [
      "120.4\n",
      "three\n",
      "24\n"
     ]
    }
   ],
   "source": [
    "func1(120.4, 'three', 24)"
   ]
  },
  {
   "cell_type": "markdown",
   "metadata": {},
   "source": [
    "## Exercise 3\n",
    "\n",
    "Write a program to create a function calculation() such that it can accept two variables and calculate addition and subtraction. Also, it must return both addition and subtraction in a single return call."
   ]
  },
  {
   "cell_type": "code",
   "execution_count": 13,
   "metadata": {},
   "outputs": [],
   "source": [
    "def calculation(numb1: int | float, numb2: int | float):\n",
    "    sum_result = numb1 + numb2\n",
    "    rest_result = numb1 - numb2\n",
    "    \n",
    "    return sum_result, rest_result\n",
    "    "
   ]
  },
  {
   "cell_type": "code",
   "execution_count": 18,
   "metadata": {},
   "outputs": [
    {
     "name": "stdout",
     "output_type": "stream",
     "text": [
      "Sum: 23.7, Rest: -3.6999999999999993\n"
     ]
    }
   ],
   "source": [
    "sum_sol, rest_sol = calculation(10, 13.7)\n",
    "\n",
    "print(f'Sum: {sum_sol}, Rest: {rest_sol}')"
   ]
  },
  {
   "cell_type": "markdown",
   "metadata": {},
   "source": [
    "## Excercise 4\n",
    "\n",
    "Write a program to create a function show_employee() using the following conditions:\n",
    "\n",
    "1. It should accept the employee's name and salary and display both.\n",
    "2. If the salary is missing in the function call then assing default value $9000$ to salary."
   ]
  },
  {
   "cell_type": "code",
   "execution_count": 6,
   "metadata": {},
   "outputs": [],
   "source": [
    "from typing import Union\n",
    "\n",
    "def showEmployee(name: str, salary: Union[int, float] = 9000):\n",
    "    print(f'Name: {name} salary: {salary}')"
   ]
  },
  {
   "cell_type": "code",
   "execution_count": 7,
   "metadata": {},
   "outputs": [
    {
     "name": "stdout",
     "output_type": "stream",
     "text": [
      "Name: ben salary: 12000\n",
      "Name: jessa salary: 9000\n"
     ]
    }
   ],
   "source": [
    "showEmployee(\"ben\", 12000)\n",
    "showEmployee(\"jessa\")"
   ]
  },
  {
   "cell_type": "markdown",
   "metadata": {},
   "source": [
    "## Exercise 5\n",
    "\n",
    "1. Create an outer function that will accept two parameters, a and b.\n",
    "2. Create an inner function inside an outer function that will calculate the addition of a and b. \n",
    "3. At last, an outer function will add 5 into addition and return it.\n"
   ]
  },
  {
   "cell_type": "code",
   "execution_count": 8,
   "metadata": {},
   "outputs": [],
   "source": [
    "def outer_function_1(a: Union[int, float], b: Union[int, float]) -> Union[int, float]:\n",
    "    def inner_function(numb1: Union[int, float], numb2: Union[int, float]):\n",
    "        sol = numb1 + numb2\n",
    "        return numb1 + numb2\n",
    "\n",
    "    return inner_function(a, b)\n",
    "\n",
    "def outer_function_2(numb: Union[int, float]) -> Union[int, float]:\n",
    "    return numb + 5"
   ]
  },
  {
   "cell_type": "code",
   "execution_count": 10,
   "metadata": {},
   "outputs": [
    {
     "name": "stdout",
     "output_type": "stream",
     "text": [
      "10\n"
     ]
    }
   ],
   "source": [
    "result_1 = outer_function_1(1, 4)\n",
    "result_2 = outer_function_2(result_1)\n",
    "\n",
    "print(result_2)"
   ]
  },
  {
   "cell_type": "markdown",
   "metadata": {},
   "source": [
    "Exercises 6\n",
    "\n",
    "Write a program to create a recursive function to calculate the sum of numbers from 0 to 10."
   ]
  },
  {
   "cell_type": "code",
   "execution_count": 6,
   "metadata": {},
   "outputs": [],
   "source": [
    "def addition(num: int):\n",
    "    if num:\n",
    "        return num + addition(num - 1)\n",
    "    else:\n",
    "        return 0"
   ]
  },
  {
   "cell_type": "markdown",
   "metadata": {},
   "source": [
    "The logic is the next:\n",
    "\n",
    "Suppose that num is equals to 3 at the beggining therefore:\n",
    "\n",
    "3 + addition(2) = 3 + 2 + addition(1) = 3 + 2 + 1 + addition(0). But, 0 is false:"
   ]
  },
  {
   "cell_type": "code",
   "execution_count": 10,
   "metadata": {},
   "outputs": [
    {
     "data": {
      "text/plain": [
       "False"
      ]
     },
     "execution_count": 10,
     "metadata": {},
     "output_type": "execute_result"
    }
   ],
   "source": [
    "bool(0)"
   ]
  },
  {
   "cell_type": "markdown",
   "metadata": {},
   "source": [
    "if num>0 is true always:"
   ]
  },
  {
   "cell_type": "code",
   "execution_count": 11,
   "metadata": {},
   "outputs": [
    {
     "name": "stdout",
     "output_type": "stream",
     "text": [
      "[True, True, True]\n"
     ]
    }
   ],
   "source": [
    "my_bool_list = [bool(num) for num in range(1, 3 + 1)]\n",
    "print(my_bool_list)"
   ]
  },
  {
   "cell_type": "markdown",
   "metadata": {},
   "source": [
    "Thas's why at 0 use the else condition."
   ]
  },
  {
   "cell_type": "code",
   "execution_count": 9,
   "metadata": {},
   "outputs": [
    {
     "data": {
      "text/plain": [
       "55"
      ]
     },
     "execution_count": 9,
     "metadata": {},
     "output_type": "execute_result"
    }
   ],
   "source": [
    "addition(10)"
   ]
  },
  {
   "cell_type": "markdown",
   "metadata": {},
   "source": [
    "Exercise 7\n",
    "\n",
    "Below is the function display_student(name, age). Assign a new name show_student(name, age) to it and call it using the new name."
   ]
  },
  {
   "cell_type": "code",
   "execution_count": 12,
   "metadata": {},
   "outputs": [],
   "source": [
    "def display_student(name: str, age: int) -> None:\n",
    "    print(f'My name is {name} and I am {age} old.')"
   ]
  },
  {
   "cell_type": "code",
   "execution_count": 14,
   "metadata": {},
   "outputs": [
    {
     "name": "stdout",
     "output_type": "stream",
     "text": [
      "My name is Juan Segura and I am 21 old.\n"
     ]
    }
   ],
   "source": [
    "show_student = display_student\n",
    "\n",
    "show_student('Juan Segura', 21)"
   ]
  },
  {
   "cell_type": "code",
   "execution_count": 16,
   "metadata": {},
   "outputs": [
    {
     "name": "stdout",
     "output_type": "stream",
     "text": [
      "[4, 6, 8, 10, 12, 14, 16, 18, 20, 22, 24, 26, 28]\n"
     ]
    }
   ],
   "source": [
    "from typing import List\n",
    "\n",
    "def even_list(initial_num: int, final_num: int) -> List[int]:\n",
    "    return [num for num in range(initial_num, final_num) if num%2==0]\n",
    "\n",
    "print(even_list(4, 30))"
   ]
  },
  {
   "cell_type": "markdown",
   "metadata": {},
   "source": [
    "Exercise 9\n",
    "\n",
    "Find the largest item from a given list."
   ]
  },
  {
   "cell_type": "code",
   "execution_count": 17,
   "metadata": {},
   "outputs": [],
   "source": [
    "x = [4, 6, 8, 24, 12, 2]"
   ]
  },
  {
   "cell_type": "code",
   "execution_count": 19,
   "metadata": {},
   "outputs": [
    {
     "data": {
      "text/plain": [
       "24"
      ]
     },
     "execution_count": 19,
     "metadata": {},
     "output_type": "execute_result"
    }
   ],
   "source": [
    "max_num = max(x)\n",
    "max_num"
   ]
  }
 ],
 "metadata": {
  "kernelspec": {
   "display_name": "Python 3",
   "language": "python",
   "name": "python3"
  },
  "language_info": {
   "codemirror_mode": {
    "name": "ipython",
    "version": 3
   },
   "file_extension": ".py",
   "mimetype": "text/x-python",
   "name": "python",
   "nbconvert_exporter": "python",
   "pygments_lexer": "ipython3",
   "version": "3.11.4"
  }
 },
 "nbformat": 4,
 "nbformat_minor": 2
}
